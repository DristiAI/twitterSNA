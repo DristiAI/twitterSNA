{
 "cells": [
  {
   "cell_type": "code",
   "execution_count": 1,
   "metadata": {},
   "outputs": [],
   "source": [
    "import numpy as np\n",
    "import pandas as pd\n"
   ]
  },
  {
   "cell_type": "code",
   "execution_count": 9,
   "metadata": {},
   "outputs": [],
   "source": [
    "tweets=pd.read_csv('./cleanedtweets.csv')"
   ]
  },
  {
   "cell_type": "code",
   "execution_count": 10,
   "metadata": {},
   "outputs": [],
   "source": [
    "def create_structures(corpus):\n",
    "    markov_dict = {'<EOT>':[]}\n",
    "    starting_words = []\n",
    "\n",
    "    for tweet in corpus.clean_text:\n",
    "        tok_tweet = tweet.split()\n",
    "        word_count = len(tok_tweet)\n",
    "        for index, word in enumerate(tok_tweet):\n",
    "            if word not in markov_dict.keys():\n",
    "                markov_dict[word] = []\n",
    "\n",
    "            if index == word_count - 1:\n",
    "                markov_dict[word].append(\"<EOT>\")\n",
    "                #couplet = (tok_tweet[index], \"<EOT>\")\n",
    "            else:\n",
    "                if index == 0:\n",
    "                    starting_words.append(word)\n",
    "                markov_dict[word].append(tok_tweet[index+1])\n",
    "    return markov_dict, starting_words\n"
   ]
  },
  {
   "cell_type": "code",
   "execution_count": 11,
   "metadata": {},
   "outputs": [],
   "source": [
    "markov_dict, starting_words = create_structures(tweets)\n"
   ]
  },
  {
   "cell_type": "code",
   "execution_count": 13,
   "metadata": {},
   "outputs": [
    {
     "name": "stdout",
     "output_type": "stream",
     "text": [
      "wacky congresswoman wilson in his mailbox and a mother teresa\n",
      "\n",
      "# icymi on immigration\n",
      "\n",
      "got the wall will never gotten to deliver a disaster must end # neverforget911\n",
      "\n",
      "make america i've been decimated by leaps and the horrible carnage going back to notify us in west virginia today @ secpricemd\n",
      "\n",
      "kathy griffin should vote in aid over a pardon why should vote to have many\n",
      "\n",
      "government will be the massive tax and it should money to a very little rocket man that my deepest condolences to the democrats jeopardizing\n",
      "\n",
      "such grief and want to 51 votes taking the stock market had a row !\n",
      "\n",
      "we remember the real scandal\n",
      "\n",
      "rt @ tuckercarlson tonight on nato and the fake news and win without having a total hoax story of ter…\n",
      "\n",
      "3 2017 !\n",
      "\n",
      "fire robert mueller t…\n",
      "\n",
      "weekly address🇺🇸\n",
      "\n",
      "we can thrive…\n",
      "\n",
      "stock market has terminated under discussion of the beginning of people of rules now fighting for many false and joyous holiday season 1\n",
      "\n",
      "rt @ bpolitics\n",
      "\n"
     ]
    }
   ],
   "source": [
    "def write_tweet(starting_word, chain):\n",
    "    tweet = starting_word\n",
    "    current_word = starting_word\n",
    "    \n",
    "    while len(tweet) <= 140:        \n",
    "        next_word = np.random.choice(chain[current_word])\n",
    "        if next_word == '<EOT>':\n",
    "            return tweet\n",
    "        \n",
    "        new_tweet = tweet + ' ' + next_word\n",
    "        if  len(new_tweet) > 140:\n",
    "            return tweet\n",
    "        else:\n",
    "            tweet = new_tweet\n",
    "            current_word = next_word\n",
    "\n",
    "for x in range(0,15):\n",
    "    starting_word = np.random.choice(starting_words)\n",
    "    print(write_tweet(starting_word, markov_dict)+\"\\n\")\n"
   ]
  },
  {
   "cell_type": "code",
   "execution_count": null,
   "metadata": {},
   "outputs": [],
   "source": []
  }
 ],
 "metadata": {
  "kernelspec": {
   "display_name": "Python 3",
   "language": "python",
   "name": "python3"
  },
  "language_info": {
   "codemirror_mode": {
    "name": "ipython",
    "version": 3
   },
   "file_extension": ".py",
   "mimetype": "text/x-python",
   "name": "python",
   "nbconvert_exporter": "python",
   "pygments_lexer": "ipython3",
   "version": "3.6.3"
  }
 },
 "nbformat": 4,
 "nbformat_minor": 2
}
